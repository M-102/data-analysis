{
  "nbformat": 4,
  "nbformat_minor": 0,
  "metadata": {
    "colab": {
      "provenance": [],
      "mount_file_id": "1B_6Do7GFyhXUpcHRNX_04H7p62zg0zwy",
      "authorship_tag": "ABX9TyN/cIvfSFvVfSeAZb/djgz9",
      "include_colab_link": true
    },
    "kernelspec": {
      "name": "python3",
      "display_name": "Python 3"
    },
    "language_info": {
      "name": "python"
    }
  },
  "cells": [
    {
      "cell_type": "markdown",
      "metadata": {
        "id": "view-in-github",
        "colab_type": "text"
      },
      "source": [
        "<a href=\"https://colab.research.google.com/github/M-102/data-analysis/blob/main/lab3__last_semak.ipynb\" target=\"_parent\"><img src=\"https://colab.research.google.com/assets/colab-badge.svg\" alt=\"Open In Colab\"/></a>"
      ]
    },
    {
      "cell_type": "markdown",
      "source": [
        "1 лаба"
      ],
      "metadata": {
        "id": "dZ42N16AowYo"
      }
    },
    {
      "cell_type": "code",
      "execution_count": 2,
      "metadata": {
        "colab": {
          "base_uri": "https://localhost:8080/"
        },
        "id": "31j0eMosm-Da",
        "outputId": "9e1ee1dc-f76b-4c5d-b7a1-2bc47ab762ea"
      },
      "outputs": [
        {
          "output_type": "stream",
          "name": "stdout",
          "text": [
            "Введите количество обезьян (n): 7\n",
            "Введите количество яблок (k): 52\n",
            "7 3\n"
          ]
        }
      ],
      "source": [
        "n = int(input(\"Введите количество обезьян (n): \"))\n",
        "k = int(input(\"Введите количество яблок (k): \"))\n",
        "\n",
        "apples_per_monkey = k // n #скок досталось бибизянкам\n",
        "apples_left = k % n #остаток в корзине\n",
        "\n",
        "print(apples_per_monkey, apples_left)\n"
      ]
    },
    {
      "cell_type": "markdown",
      "source": [
        "2 лаба"
      ],
      "metadata": {
        "id": "fDBvVul7o246"
      }
    },
    {
      "cell_type": "code",
      "source": [
        "def main():\n",
        "    try:\n",
        "        year_input = input(\"Введите год: \")\n",
        "        year = int(year_input)\n",
        "        if year <= 0:\n",
        "            raise ValueError\n",
        "    except ValueError:\n",
        "        print(\"Ошибка ввода: необходимо ввести натуральное число.\")\n",
        "        return\n",
        "\n",
        "    # Год високосный, если он кратен 4 и не кратен 100, либо если он кратен 400.\n",
        "    if (year % 4 == 0 and year % 100 != 0) or (year % 400 == 0):\n",
        "        print(\"YES\")\n",
        "    else:\n",
        "        print(\"NO\")\n",
        "\n",
        "main()\n",
        "\n",
        "\n"
      ],
      "metadata": {
        "colab": {
          "base_uri": "https://localhost:8080/"
        },
        "id": "8pMUEoxzo1aT",
        "outputId": "9f1816b0-fecf-4d8b-c5b1-39d0227fa8ed"
      },
      "execution_count": 10,
      "outputs": [
        {
          "output_type": "stream",
          "name": "stdout",
          "text": [
            "Введите год: 12,9\n",
            "Ошибка ввода: необходимо ввести натуральное число.\n"
          ]
        }
      ]
    },
    {
      "cell_type": "markdown",
      "source": [
        "3 лаба"
      ],
      "metadata": {
        "id": "f5UehT1UsGRs"
      }
    },
    {
      "cell_type": "code",
      "source": [
        "# scraper.py\n",
        "import requests\n",
        "from bs4 import BeautifulSoup\n",
        "\n",
        "url = 'https://quotes.toscrape.com/'\n",
        "response = requests.get(url)\n",
        "soup = BeautifulSoup(response.text, 'lxml')\n",
        "\n",
        "print(soup)\n"
      ],
      "metadata": {
        "colab": {
          "base_uri": "https://localhost:8080/"
        },
        "id": "rmZX7UMOsIZl",
        "outputId": "dc2e08de-ea73-43c3-be41-2e9b6bbcb0e1"
      },
      "execution_count": 13,
      "outputs": [
        {
          "output_type": "stream",
          "name": "stdout",
          "text": [
            "<!DOCTYPE html>\n",
            "<html lang=\"en\">\n",
            "<head>\n",
            "<meta charset=\"utf-8\"/>\n",
            "<title>Quotes to Scrape</title>\n",
            "<link href=\"/static/bootstrap.min.css\" rel=\"stylesheet\"/>\n",
            "<link href=\"/static/main.css\" rel=\"stylesheet\"/>\n",
            "</head>\n",
            "<body>\n",
            "<div class=\"container\">\n",
            "<div class=\"row header-box\">\n",
            "<div class=\"col-md-8\">\n",
            "<h1>\n",
            "<a href=\"/\" style=\"text-decoration: none\">Quotes to Scrape</a>\n",
            "</h1>\n",
            "</div>\n",
            "<div class=\"col-md-4\">\n",
            "<p>\n",
            "<a href=\"/login\">Login</a>\n",
            "</p>\n",
            "</div>\n",
            "</div>\n",
            "<div class=\"row\">\n",
            "<div class=\"col-md-8\">\n",
            "<div class=\"quote\" itemscope=\"\" itemtype=\"http://schema.org/CreativeWork\">\n",
            "<span class=\"text\" itemprop=\"text\">“The world as we have created it is a process of our thinking. It cannot be changed without changing our thinking.”</span>\n",
            "<span>by <small class=\"author\" itemprop=\"author\">Albert Einstein</small>\n",
            "<a href=\"/author/Albert-Einstein\">(about)</a>\n",
            "</span>\n",
            "<div class=\"tags\">\n",
            "            Tags:\n",
            "            <meta class=\"keywords\" content=\"change,deep-thoughts,thinking,world\" itemprop=\"keywords\"/>\n",
            "<a class=\"tag\" href=\"/tag/change/page/1/\">change</a>\n",
            "<a class=\"tag\" href=\"/tag/deep-thoughts/page/1/\">deep-thoughts</a>\n",
            "<a class=\"tag\" href=\"/tag/thinking/page/1/\">thinking</a>\n",
            "<a class=\"tag\" href=\"/tag/world/page/1/\">world</a>\n",
            "</div>\n",
            "</div>\n",
            "<div class=\"quote\" itemscope=\"\" itemtype=\"http://schema.org/CreativeWork\">\n",
            "<span class=\"text\" itemprop=\"text\">“It is our choices, Harry, that show what we truly are, far more than our abilities.”</span>\n",
            "<span>by <small class=\"author\" itemprop=\"author\">J.K. Rowling</small>\n",
            "<a href=\"/author/J-K-Rowling\">(about)</a>\n",
            "</span>\n",
            "<div class=\"tags\">\n",
            "            Tags:\n",
            "            <meta class=\"keywords\" content=\"abilities,choices\" itemprop=\"keywords\"/>\n",
            "<a class=\"tag\" href=\"/tag/abilities/page/1/\">abilities</a>\n",
            "<a class=\"tag\" href=\"/tag/choices/page/1/\">choices</a>\n",
            "</div>\n",
            "</div>\n",
            "<div class=\"quote\" itemscope=\"\" itemtype=\"http://schema.org/CreativeWork\">\n",
            "<span class=\"text\" itemprop=\"text\">“There are only two ways to live your life. One is as though nothing is a miracle. The other is as though everything is a miracle.”</span>\n",
            "<span>by <small class=\"author\" itemprop=\"author\">Albert Einstein</small>\n",
            "<a href=\"/author/Albert-Einstein\">(about)</a>\n",
            "</span>\n",
            "<div class=\"tags\">\n",
            "            Tags:\n",
            "            <meta class=\"keywords\" content=\"inspirational,life,live,miracle,miracles\" itemprop=\"keywords\"/>\n",
            "<a class=\"tag\" href=\"/tag/inspirational/page/1/\">inspirational</a>\n",
            "<a class=\"tag\" href=\"/tag/life/page/1/\">life</a>\n",
            "<a class=\"tag\" href=\"/tag/live/page/1/\">live</a>\n",
            "<a class=\"tag\" href=\"/tag/miracle/page/1/\">miracle</a>\n",
            "<a class=\"tag\" href=\"/tag/miracles/page/1/\">miracles</a>\n",
            "</div>\n",
            "</div>\n",
            "<div class=\"quote\" itemscope=\"\" itemtype=\"http://schema.org/CreativeWork\">\n",
            "<span class=\"text\" itemprop=\"text\">“The person, be it gentleman or lady, who has not pleasure in a good novel, must be intolerably stupid.”</span>\n",
            "<span>by <small class=\"author\" itemprop=\"author\">Jane Austen</small>\n",
            "<a href=\"/author/Jane-Austen\">(about)</a>\n",
            "</span>\n",
            "<div class=\"tags\">\n",
            "            Tags:\n",
            "            <meta class=\"keywords\" content=\"aliteracy,books,classic,humor\" itemprop=\"keywords\"/>\n",
            "<a class=\"tag\" href=\"/tag/aliteracy/page/1/\">aliteracy</a>\n",
            "<a class=\"tag\" href=\"/tag/books/page/1/\">books</a>\n",
            "<a class=\"tag\" href=\"/tag/classic/page/1/\">classic</a>\n",
            "<a class=\"tag\" href=\"/tag/humor/page/1/\">humor</a>\n",
            "</div>\n",
            "</div>\n",
            "<div class=\"quote\" itemscope=\"\" itemtype=\"http://schema.org/CreativeWork\">\n",
            "<span class=\"text\" itemprop=\"text\">“Imperfection is beauty, madness is genius and it's better to be absolutely ridiculous than absolutely boring.”</span>\n",
            "<span>by <small class=\"author\" itemprop=\"author\">Marilyn Monroe</small>\n",
            "<a href=\"/author/Marilyn-Monroe\">(about)</a>\n",
            "</span>\n",
            "<div class=\"tags\">\n",
            "            Tags:\n",
            "            <meta class=\"keywords\" content=\"be-yourself,inspirational\" itemprop=\"keywords\"/>\n",
            "<a class=\"tag\" href=\"/tag/be-yourself/page/1/\">be-yourself</a>\n",
            "<a class=\"tag\" href=\"/tag/inspirational/page/1/\">inspirational</a>\n",
            "</div>\n",
            "</div>\n",
            "<div class=\"quote\" itemscope=\"\" itemtype=\"http://schema.org/CreativeWork\">\n",
            "<span class=\"text\" itemprop=\"text\">“Try not to become a man of success. Rather become a man of value.”</span>\n",
            "<span>by <small class=\"author\" itemprop=\"author\">Albert Einstein</small>\n",
            "<a href=\"/author/Albert-Einstein\">(about)</a>\n",
            "</span>\n",
            "<div class=\"tags\">\n",
            "            Tags:\n",
            "            <meta class=\"keywords\" content=\"adulthood,success,value\" itemprop=\"keywords\"/>\n",
            "<a class=\"tag\" href=\"/tag/adulthood/page/1/\">adulthood</a>\n",
            "<a class=\"tag\" href=\"/tag/success/page/1/\">success</a>\n",
            "<a class=\"tag\" href=\"/tag/value/page/1/\">value</a>\n",
            "</div>\n",
            "</div>\n",
            "<div class=\"quote\" itemscope=\"\" itemtype=\"http://schema.org/CreativeWork\">\n",
            "<span class=\"text\" itemprop=\"text\">“It is better to be hated for what you are than to be loved for what you are not.”</span>\n",
            "<span>by <small class=\"author\" itemprop=\"author\">André Gide</small>\n",
            "<a href=\"/author/Andre-Gide\">(about)</a>\n",
            "</span>\n",
            "<div class=\"tags\">\n",
            "            Tags:\n",
            "            <meta class=\"keywords\" content=\"life,love\" itemprop=\"keywords\"/>\n",
            "<a class=\"tag\" href=\"/tag/life/page/1/\">life</a>\n",
            "<a class=\"tag\" href=\"/tag/love/page/1/\">love</a>\n",
            "</div>\n",
            "</div>\n",
            "<div class=\"quote\" itemscope=\"\" itemtype=\"http://schema.org/CreativeWork\">\n",
            "<span class=\"text\" itemprop=\"text\">“I have not failed. I've just found 10,000 ways that won't work.”</span>\n",
            "<span>by <small class=\"author\" itemprop=\"author\">Thomas A. Edison</small>\n",
            "<a href=\"/author/Thomas-A-Edison\">(about)</a>\n",
            "</span>\n",
            "<div class=\"tags\">\n",
            "            Tags:\n",
            "            <meta class=\"keywords\" content=\"edison,failure,inspirational,paraphrased\" itemprop=\"keywords\"/>\n",
            "<a class=\"tag\" href=\"/tag/edison/page/1/\">edison</a>\n",
            "<a class=\"tag\" href=\"/tag/failure/page/1/\">failure</a>\n",
            "<a class=\"tag\" href=\"/tag/inspirational/page/1/\">inspirational</a>\n",
            "<a class=\"tag\" href=\"/tag/paraphrased/page/1/\">paraphrased</a>\n",
            "</div>\n",
            "</div>\n",
            "<div class=\"quote\" itemscope=\"\" itemtype=\"http://schema.org/CreativeWork\">\n",
            "<span class=\"text\" itemprop=\"text\">“A woman is like a tea bag; you never know how strong it is until it's in hot water.”</span>\n",
            "<span>by <small class=\"author\" itemprop=\"author\">Eleanor Roosevelt</small>\n",
            "<a href=\"/author/Eleanor-Roosevelt\">(about)</a>\n",
            "</span>\n",
            "<div class=\"tags\">\n",
            "            Tags:\n",
            "            <meta class=\"keywords\" content=\"misattributed-eleanor-roosevelt\" itemprop=\"keywords\"/>\n",
            "<a class=\"tag\" href=\"/tag/misattributed-eleanor-roosevelt/page/1/\">misattributed-eleanor-roosevelt</a>\n",
            "</div>\n",
            "</div>\n",
            "<div class=\"quote\" itemscope=\"\" itemtype=\"http://schema.org/CreativeWork\">\n",
            "<span class=\"text\" itemprop=\"text\">“A day without sunshine is like, you know, night.”</span>\n",
            "<span>by <small class=\"author\" itemprop=\"author\">Steve Martin</small>\n",
            "<a href=\"/author/Steve-Martin\">(about)</a>\n",
            "</span>\n",
            "<div class=\"tags\">\n",
            "            Tags:\n",
            "            <meta class=\"keywords\" content=\"humor,obvious,simile\" itemprop=\"keywords\"/>\n",
            "<a class=\"tag\" href=\"/tag/humor/page/1/\">humor</a>\n",
            "<a class=\"tag\" href=\"/tag/obvious/page/1/\">obvious</a>\n",
            "<a class=\"tag\" href=\"/tag/simile/page/1/\">simile</a>\n",
            "</div>\n",
            "</div>\n",
            "<nav>\n",
            "<ul class=\"pager\">\n",
            "<li class=\"next\">\n",
            "<a href=\"/page/2/\">Next <span aria-hidden=\"true\">→</span></a>\n",
            "</li>\n",
            "</ul>\n",
            "</nav>\n",
            "</div>\n",
            "<div class=\"col-md-4 tags-box\">\n",
            "<h2>Top Ten tags</h2>\n",
            "<span class=\"tag-item\">\n",
            "<a class=\"tag\" href=\"/tag/love/\" style=\"font-size: 28px\">love</a>\n",
            "</span>\n",
            "<span class=\"tag-item\">\n",
            "<a class=\"tag\" href=\"/tag/inspirational/\" style=\"font-size: 26px\">inspirational</a>\n",
            "</span>\n",
            "<span class=\"tag-item\">\n",
            "<a class=\"tag\" href=\"/tag/life/\" style=\"font-size: 26px\">life</a>\n",
            "</span>\n",
            "<span class=\"tag-item\">\n",
            "<a class=\"tag\" href=\"/tag/humor/\" style=\"font-size: 24px\">humor</a>\n",
            "</span>\n",
            "<span class=\"tag-item\">\n",
            "<a class=\"tag\" href=\"/tag/books/\" style=\"font-size: 22px\">books</a>\n",
            "</span>\n",
            "<span class=\"tag-item\">\n",
            "<a class=\"tag\" href=\"/tag/reading/\" style=\"font-size: 14px\">reading</a>\n",
            "</span>\n",
            "<span class=\"tag-item\">\n",
            "<a class=\"tag\" href=\"/tag/friendship/\" style=\"font-size: 10px\">friendship</a>\n",
            "</span>\n",
            "<span class=\"tag-item\">\n",
            "<a class=\"tag\" href=\"/tag/friends/\" style=\"font-size: 8px\">friends</a>\n",
            "</span>\n",
            "<span class=\"tag-item\">\n",
            "<a class=\"tag\" href=\"/tag/truth/\" style=\"font-size: 8px\">truth</a>\n",
            "</span>\n",
            "<span class=\"tag-item\">\n",
            "<a class=\"tag\" href=\"/tag/simile/\" style=\"font-size: 6px\">simile</a>\n",
            "</span>\n",
            "</div>\n",
            "</div>\n",
            "</div>\n",
            "<footer class=\"footer\">\n",
            "<div class=\"container\">\n",
            "<p class=\"text-muted\">\n",
            "                Quotes by: <a href=\"https://www.goodreads.com/quotes\">GoodReads.com</a>\n",
            "</p>\n",
            "<p class=\"copyright\">\n",
            "                Made with <span class=\"zyte\">❤</span> by <a class=\"zyte\" href=\"https://www.zyte.com\">Zyte</a>\n",
            "</p>\n",
            "</div>\n",
            "</footer>\n",
            "</body>\n",
            "</html>\n"
          ]
        }
      ]
    },
    {
      "cell_type": "markdown",
      "source": [
        "Выковыриваем span с классом text"
      ],
      "metadata": {
        "id": "yQSppO65x_OA"
      }
    },
    {
      "cell_type": "code",
      "source": [
        "# scraper.py\n",
        "import requests\n",
        "from bs4 import BeautifulSoup\n",
        "\n",
        "url = 'https://quotes.toscrape.com/'\n",
        "response = requests.get(url)\n",
        "soup = BeautifulSoup(response.text, 'lxml')\n",
        "quotes = soup.find_all('span', class_='text')\n",
        "\n",
        "for quote in quotes:\n",
        "    print(quote.text)\n"
      ],
      "metadata": {
        "colab": {
          "base_uri": "https://localhost:8080/"
        },
        "id": "Nu8UtjCZx92R",
        "outputId": "82b3c80c-8d9e-4fe7-adb6-1851e8c1b038"
      },
      "execution_count": 14,
      "outputs": [
        {
          "output_type": "stream",
          "name": "stdout",
          "text": [
            "“The world as we have created it is a process of our thinking. It cannot be changed without changing our thinking.”\n",
            "“It is our choices, Harry, that show what we truly are, far more than our abilities.”\n",
            "“There are only two ways to live your life. One is as though nothing is a miracle. The other is as though everything is a miracle.”\n",
            "“The person, be it gentleman or lady, who has not pleasure in a good novel, must be intolerably stupid.”\n",
            "“Imperfection is beauty, madness is genius and it's better to be absolutely ridiculous than absolutely boring.”\n",
            "“Try not to become a man of success. Rather become a man of value.”\n",
            "“It is better to be hated for what you are than to be loved for what you are not.”\n",
            "“I have not failed. I've just found 10,000 ways that won't work.”\n",
            "“A woman is like a tea bag; you never know how strong it is until it's in hot water.”\n",
            "“A day without sunshine is like, you know, night.”\n"
          ]
        }
      ]
    },
    {
      "cell_type": "markdown",
      "source": [
        "Выковыриваем авторов"
      ],
      "metadata": {
        "id": "Uyw3xpVJyvjd"
      }
    },
    {
      "cell_type": "code",
      "source": [
        "# scraper.py\n",
        "import requests\n",
        "from bs4 import BeautifulSoup\n",
        "\n",
        "url = 'https://quotes.toscrape.com/'\n",
        "response = requests.get(url)\n",
        "soup = BeautifulSoup(response.text, 'lxml')\n",
        "tags = soup.find_all('div', class_='tags')\n",
        "\n",
        "for quote in tags:\n",
        "    print(quote.text)\n"
      ],
      "metadata": {
        "colab": {
          "base_uri": "https://localhost:8080/"
        },
        "id": "Uo4kSYQNyx2I",
        "outputId": "efa651d3-30e9-4b9d-9a08-2a2d1bc411c3"
      },
      "execution_count": 17,
      "outputs": [
        {
          "output_type": "stream",
          "name": "stdout",
          "text": [
            "\n",
            "            Tags:\n",
            "            \n",
            "change\n",
            "deep-thoughts\n",
            "thinking\n",
            "world\n",
            "\n",
            "\n",
            "            Tags:\n",
            "            \n",
            "abilities\n",
            "choices\n",
            "\n",
            "\n",
            "            Tags:\n",
            "            \n",
            "inspirational\n",
            "life\n",
            "live\n",
            "miracle\n",
            "miracles\n",
            "\n",
            "\n",
            "            Tags:\n",
            "            \n",
            "aliteracy\n",
            "books\n",
            "classic\n",
            "humor\n",
            "\n",
            "\n",
            "            Tags:\n",
            "            \n",
            "be-yourself\n",
            "inspirational\n",
            "\n",
            "\n",
            "            Tags:\n",
            "            \n",
            "adulthood\n",
            "success\n",
            "value\n",
            "\n",
            "\n",
            "            Tags:\n",
            "            \n",
            "life\n",
            "love\n",
            "\n",
            "\n",
            "            Tags:\n",
            "            \n",
            "edison\n",
            "failure\n",
            "inspirational\n",
            "paraphrased\n",
            "\n",
            "\n",
            "            Tags:\n",
            "            \n",
            "misattributed-eleanor-roosevelt\n",
            "\n",
            "\n",
            "            Tags:\n",
            "            \n",
            "humor\n",
            "obvious\n",
            "simile\n",
            "\n"
          ]
        }
      ]
    },
    {
      "cell_type": "markdown",
      "source": [
        "Ну тут вообще капец"
      ],
      "metadata": {
        "id": "FVP7GgcTz9ys"
      }
    },
    {
      "cell_type": "code",
      "source": [
        "# scraper.py\n",
        "import requests\n",
        "from bs4 import BeautifulSoup\n",
        "\n",
        "url = 'https://quotes.toscrape.com/'\n",
        "response = requests.get(url)\n",
        "soup = BeautifulSoup(response.text, 'lxml')\n",
        "quotes = soup.find_all('span', class_='text')\n",
        "authors = soup.find_all('small', class_='author')\n",
        "tags = soup.find_all('div', class_='tags')\n",
        "\n",
        "for i in range(0, len(quotes)):\n",
        "    print(quotes[i].text)\n",
        "    print('--' + authors[i].text)\n",
        "    tagsforquote = tags[i].find_all('a', class_='tag')\n",
        "    for tagforquote in tagsforquote:\n",
        "        print(tagforquote.text)\n",
        "    print('\\n')\n"
      ],
      "metadata": {
        "colab": {
          "base_uri": "https://localhost:8080/"
        },
        "id": "Y1_klwwm0Aco",
        "outputId": "ff516b01-d270-4e8d-e219-10355c459788"
      },
      "execution_count": 16,
      "outputs": [
        {
          "output_type": "stream",
          "name": "stdout",
          "text": [
            "“The world as we have created it is a process of our thinking. It cannot be changed without changing our thinking.”\n",
            "--Albert Einstein\n",
            "change\n",
            "deep-thoughts\n",
            "thinking\n",
            "world\n",
            "\n",
            "\n",
            "“It is our choices, Harry, that show what we truly are, far more than our abilities.”\n",
            "--J.K. Rowling\n",
            "abilities\n",
            "choices\n",
            "\n",
            "\n",
            "“There are only two ways to live your life. One is as though nothing is a miracle. The other is as though everything is a miracle.”\n",
            "--Albert Einstein\n",
            "inspirational\n",
            "life\n",
            "live\n",
            "miracle\n",
            "miracles\n",
            "\n",
            "\n",
            "“The person, be it gentleman or lady, who has not pleasure in a good novel, must be intolerably stupid.”\n",
            "--Jane Austen\n",
            "aliteracy\n",
            "books\n",
            "classic\n",
            "humor\n",
            "\n",
            "\n",
            "“Imperfection is beauty, madness is genius and it's better to be absolutely ridiculous than absolutely boring.”\n",
            "--Marilyn Monroe\n",
            "be-yourself\n",
            "inspirational\n",
            "\n",
            "\n",
            "“Try not to become a man of success. Rather become a man of value.”\n",
            "--Albert Einstein\n",
            "adulthood\n",
            "success\n",
            "value\n",
            "\n",
            "\n",
            "“It is better to be hated for what you are than to be loved for what you are not.”\n",
            "--André Gide\n",
            "life\n",
            "love\n",
            "\n",
            "\n",
            "“I have not failed. I've just found 10,000 ways that won't work.”\n",
            "--Thomas A. Edison\n",
            "edison\n",
            "failure\n",
            "inspirational\n",
            "paraphrased\n",
            "\n",
            "\n",
            "“A woman is like a tea bag; you never know how strong it is until it's in hot water.”\n",
            "--Eleanor Roosevelt\n",
            "misattributed-eleanor-roosevelt\n",
            "\n",
            "\n",
            "“A day without sunshine is like, you know, night.”\n",
            "--Steve Martin\n",
            "humor\n",
            "obvious\n",
            "simile\n",
            "\n",
            "\n"
          ]
        }
      ]
    },
    {
      "cell_type": "markdown",
      "source": [
        "Практика парсинга с Beautiful Soup"
      ],
      "metadata": {
        "id": "uApYuQNsojxE"
      }
    },
    {
      "cell_type": "code",
      "source": [
        "# shop_scraper.py\n",
        "import requests\n",
        "from bs4 import BeautifulSoup\n",
        "\n",
        "url = 'https://scrapingclub.com/exercise/list_basic/?page=1'\n",
        "response = requests.get(url)\n",
        "soup = BeautifulSoup(response.text, 'lxml')\n",
        "items = soup.find_all('div', class_='w-full rounded border')\n",
        "\n",
        "for n, i in enumerate(items, start=1):\n",
        "    itemName = i.find('h4').text.strip()\n",
        "    itemPrice = i.find('h5').text\n",
        "    print(f'{n}:  {itemPrice} за {itemName}')"
      ],
      "metadata": {
        "colab": {
          "base_uri": "https://localhost:8080/"
        },
        "id": "ELWDS0pyokaf",
        "outputId": "6e468eae-3efd-4140-86fa-b3a7711137b0"
      },
      "execution_count": 17,
      "outputs": [
        {
          "output_type": "stream",
          "name": "stdout",
          "text": [
            "1:  $24.99 за Short Dress\n",
            "2:  $29.99 за Patterned Slacks\n",
            "3:  $49.99 за Short Chiffon Dress\n",
            "4:  $59.99 за Off-the-shoulder Dress\n",
            "5:  $24.99 за V-neck Top\n",
            "6:  $49.99 за Short Chiffon Dress\n",
            "7:  $24.99 за V-neck Top\n",
            "8:  $24.99 за V-neck Top\n",
            "9:  $59.99 за Short Lace Dress\n",
            "10:  $34.99 за Fitted Dress\n"
          ]
        }
      ]
    },
    {
      "cell_type": "code",
      "source": [
        "# shop_scraper.py\n",
        "# версия для понимания процессов\n",
        "import requests\n",
        "from bs4 import BeautifulSoup\n",
        "\n",
        "url = 'https://scrapingclub.com/exercise/list_basic/?page=1'\n",
        "response = requests.get(url)\n",
        "soup = BeautifulSoup(response.text, 'lxml')\n",
        "items = soup.find_all('div', class_='w-full rounded border')\n",
        "\n",
        "for n, i in enumerate(items, start=1):\n",
        "    itemName = i.find('h4').text.strip()\n",
        "    itemPrice = i.find('h5').text\n",
        "    print(f'{n}:  {itemPrice} за {itemName}')\n",
        "\n",
        "pages = soup.find('nav', class_='pagination')\n",
        "urls = []\n",
        "links = pages.find_all('a')\n",
        "\n",
        "for link in links:\n",
        "    pageNum = int(link.text) if link.text.isdigit() else None\n",
        "    if pageNum != None:\n",
        "        hrefval = link.get('href')\n",
        "        urls.append(hrefval)\n",
        "\n",
        "for slug in urls:\n",
        "    newUrl = url.replace('?page=1', slug)\n",
        "    response = requests.get(newUrl)\n",
        "    soup = BeautifulSoup(response.text, 'lxml')\n",
        "    items = soup.find_all('div', class_='w-full rounded border')\n",
        "    for n, i in enumerate(items, start=n):\n",
        "        itemName = i.find('h4').text.strip()\n",
        "        itemPrice = i.find('h5').text\n",
        "        print(f'{n}:  {itemPrice} за {itemName}')\n"
      ],
      "metadata": {
        "colab": {
          "base_uri": "https://localhost:8080/"
        },
        "id": "3Tt_nOx34JPX",
        "outputId": "96b90f9c-4efc-42f6-b573-f8bf80138929"
      },
      "execution_count": 34,
      "outputs": [
        {
          "output_type": "stream",
          "name": "stdout",
          "text": [
            "1:  $24.99 за Short Dress\n",
            "2:  $29.99 за Patterned Slacks\n",
            "3:  $49.99 за Short Chiffon Dress\n",
            "4:  $59.99 за Off-the-shoulder Dress\n",
            "5:  $24.99 за V-neck Top\n",
            "6:  $49.99 за Short Chiffon Dress\n",
            "7:  $24.99 за V-neck Top\n",
            "8:  $24.99 за V-neck Top\n",
            "9:  $59.99 за Short Lace Dress\n",
            "10:  $34.99 за Fitted Dress\n",
            "10:  $69.99 за V-neck Jumpsuit\n",
            "11:  $54.99 за Chiffon Dress\n",
            "12:  $39.99 за Skinny High Waist Jeans\n",
            "13:  $19.99 за Super Skinny High Jeans\n",
            "14:  $19.99 за Oversized Denim Jacket\n",
            "15:  $24.99 за Short Sweatshirt\n",
            "16:  $12.99 за Long-sleeved Jersey Top\n",
            "17:  $39.99 за Skinny High Waist Jeans\n",
            "18:  $24.99 за Short Sweatshirt\n",
            "19:  $12.99 за Long-sleeved Jersey Top\n",
            "19:  $12.99 за Long-sleeved Jersey Top\n",
            "20:  $19.99 за Jersey Dress\n",
            "21:  $24.99 за Short Sweatshirt\n",
            "22:  $24.99 за Crinkled Flounced Blouse\n",
            "23:  $29.99 за Bib Overall Dress\n",
            "24:  $17.99 за Loose-knit Sweater\n",
            "25:  $29.99 за Skinny Regular Jeans\n",
            "26:  $12.99 за Henley-style Top\n",
            "27:  $17.99 за Joggers\n",
            "28:  $34.99 за Skirt with Lacing\n",
            "28:  $17.99 за Top with Tie\n",
            "29:  $34.99 за Joggers\n",
            "30:  $49.99 за Chiffon Dress with Flounce\n",
            "31:  $34.99 за Skirt with Lacing\n",
            "32:  $9.99 за V-neck Top\n",
            "33:  $29.99 за Hooded Jacket\n",
            "34:  $29.99 за Hooded Top\n",
            "35:  $34.99 за Lyocell-blend Blouse\n",
            "36:  $29.99 за Bib Overall Dress\n",
            "37:  $34.99 за Wide-leg Pants\n",
            "37:  $24.99 за Ankle-length Slim-fit Pants\n",
            "38:  $9.99 за Short Sweatshirt\n",
            "39:  $17.99 за V-neck Blouse\n",
            "40:  $24.99 за Short Skirt\n",
            "41:  $17.99 за Mesh T-shirt\n",
            "42:  $59.99 за Blouse with Embroidery\n",
            "43:  $34.99 за Wide-cut Cotton Top\n",
            "44:  $54.99 за Pleated Skirt\n",
            "45:  $69.99 за Coat\n",
            "46:  $49.99 за Wide-leg Pants\n",
            "46:  $29.99 за Top\n",
            "47:  $69.99 за Knit Mohair-blend Sweater\n",
            "48:  $69.99 за Dress\n",
            "49:  $29.99 за T-shirt with Embroidery\n",
            "50:  $49.99 за Blouse with Ruffled Collar\n",
            "51:  $49.99 за Pants\n",
            "52:  $19.99 за Jersey Dress\n",
            "53:  $6.99 за T-shirt\n",
            "54:  $6.99 за T-shirt\n",
            "55:  $49.99 за Blazer\n"
          ]
        }
      ]
    },
    {
      "cell_type": "markdown",
      "source": [
        "Самостоятельно https://sochi.rendez-vous.ru/catalog/shoes/page/2/"
      ],
      "metadata": {
        "id": "g6115X_XFPYW"
      }
    },
    {
      "cell_type": "code",
      "source": [
        "import requests\n",
        "from bs4 import BeautifulSoup\n",
        "\n",
        "url = 'https://sochi.rendez-vous.ru/catalog/shoes/'\n",
        "response = requests.get(url)\n",
        "soup = BeautifulSoup(response.text, 'lxml')\n",
        "items = soup.find_all('a', class_='item-link')\n",
        "\n",
        "for n, i in enumerate(items, start=1):\n",
        "    itemName = i.find('div', class_='item-name').text.strip()\n",
        "    itemPrice = i.find('div', class_='item-price').text.strip()\n",
        "    print(f'{n}:  {itemPrice} за {itemName}')\n",
        "\n",
        "pages = soup.find('ul', class_='#yw1.pagination')\n",
        "urls = []\n",
        "links = pages.find_all('a')\n",
        "\n",
        "for link in links:\n",
        "    pageNum = int(link.text) if link.text.isdigit() else None\n",
        "    if pageNum != None:\n",
        "        hrefval = link.get('href')\n",
        "        urls.append(hrefval)\n",
        "\n",
        "for slug in urls:\n",
        "    newUrl = url.replace('?page=1', slug)\n",
        "    response = requests.get(newUrl)\n",
        "    soup = BeautifulSoup(response.text, 'lxml')\n",
        "    items = soup.find_all('a', class_='item-link')\n",
        "    for n, i in enumerate(items, start=n):\n",
        "        itemName = i.find('div', class_='item-name').text.strip()\n",
        "        itemPrice = i.find('div', class_='item-price').text.strip()\n",
        "        print(f'{n}:  {itemPrice} за {itemName}')"
      ],
      "metadata": {
        "id": "Q21S04u1RBCA"
      },
      "execution_count": null,
      "outputs": []
    },
    {
      "cell_type": "markdown",
      "source": [
        "lab 5"
      ],
      "metadata": {
        "id": "wb0A_70bQ9qf"
      }
    },
    {
      "cell_type": "code",
      "source": [
        "!python3 --version"
      ],
      "metadata": {
        "colab": {
          "base_uri": "https://localhost:8080/"
        },
        "id": "FdqQZv2ASlYJ",
        "outputId": "076046a8-ed5d-4d2e-b664-876ecee7b48a"
      },
      "execution_count": 61,
      "outputs": [
        {
          "output_type": "stream",
          "name": "stdout",
          "text": [
            "Python 3.11.11\n"
          ]
        }
      ]
    },
    {
      "cell_type": "code",
      "source": [
        "!pip install pyTelegramBotAPI\n"
      ],
      "metadata": {
        "colab": {
          "base_uri": "https://localhost:8080/"
        },
        "id": "67bLlCcPUY5E",
        "outputId": "c74afc0b-82bf-4dc3-f00f-2b2db0cbc9c2"
      },
      "execution_count": 63,
      "outputs": [
        {
          "output_type": "stream",
          "name": "stdout",
          "text": [
            "Collecting pyTelegramBotAPI\n",
            "  Downloading pytelegrambotapi-4.26.0-py3-none-any.whl.metadata (48 kB)\n",
            "\u001b[?25l     \u001b[90m━━━━━━━━━━━━━━━━━━━━━━━━━━━━━━━━━━━━━━━━\u001b[0m \u001b[32m0.0/48.1 kB\u001b[0m \u001b[31m?\u001b[0m eta \u001b[36m-:--:--\u001b[0m\r\u001b[2K     \u001b[90m━━━━━━━━━━━━━━━━━━━━━━━━━━━━━━━━━━━━━━━━\u001b[0m \u001b[32m48.1/48.1 kB\u001b[0m \u001b[31m2.7 MB/s\u001b[0m eta \u001b[36m0:00:00\u001b[0m\n",
            "\u001b[?25hRequirement already satisfied: requests in /usr/local/lib/python3.11/dist-packages (from pyTelegramBotAPI) (2.32.3)\n",
            "Requirement already satisfied: charset-normalizer<4,>=2 in /usr/local/lib/python3.11/dist-packages (from requests->pyTelegramBotAPI) (3.4.1)\n",
            "Requirement already satisfied: idna<4,>=2.5 in /usr/local/lib/python3.11/dist-packages (from requests->pyTelegramBotAPI) (3.10)\n",
            "Requirement already satisfied: urllib3<3,>=1.21.1 in /usr/local/lib/python3.11/dist-packages (from requests->pyTelegramBotAPI) (2.3.0)\n",
            "Requirement already satisfied: certifi>=2017.4.17 in /usr/local/lib/python3.11/dist-packages (from requests->pyTelegramBotAPI) (2025.1.31)\n",
            "Downloading pytelegrambotapi-4.26.0-py3-none-any.whl (270 kB)\n",
            "\u001b[2K   \u001b[90m━━━━━━━━━━━━━━━━━━━━━━━━━━━━━━━━━━━━━━━━\u001b[0m \u001b[32m270.5/270.5 kB\u001b[0m \u001b[31m11.2 MB/s\u001b[0m eta \u001b[36m0:00:00\u001b[0m\n",
            "\u001b[?25hInstalling collected packages: pyTelegramBotAPI\n",
            "Successfully installed pyTelegramBotAPI-4.26.0\n"
          ]
        }
      ]
    },
    {
      "cell_type": "code",
      "source": [
        "import telebot\n",
        "# Создаем экземпляр бота\n",
        "bot = telebot.TeleBot('7257580623:AAHojjUNTTA9shmB_FO4YUCUZ4p_LWOdwz0')\n",
        "# Функция, обрабатывающая команду /start\n",
        "@bot.message_handler(commands=[\"start\"])\n",
        "def start(m, res=False):\n",
        "    bot.send_message(m.chat.id, 'К работе готов! Давайте общаться.')\n",
        "# Получение сообщений от пользователя\n",
        "@bot.message_handler(content_types=[\"text\"])\n",
        "def handle_text(message):\n",
        "    bot.send_message(message.chat.id, 'Вы написали: ' + message.text)\n",
        "# Запускаем бота\n",
        "bot.polling(none_stop=True, interval=0)\n"
      ],
      "metadata": {
        "id": "5V_88USfUADz"
      },
      "execution_count": 64,
      "outputs": []
    },
    {
      "cell_type": "code",
      "source": [
        "!pip3 install wikipedia"
      ],
      "metadata": {
        "colab": {
          "base_uri": "https://localhost:8080/"
        },
        "id": "TSKQJsljUtjY",
        "outputId": "70a6e9cb-1496-4f78-fa66-6368aec5db8a"
      },
      "execution_count": 65,
      "outputs": [
        {
          "output_type": "stream",
          "name": "stdout",
          "text": [
            "Collecting wikipedia\n",
            "  Downloading wikipedia-1.4.0.tar.gz (27 kB)\n",
            "  Preparing metadata (setup.py) ... \u001b[?25l\u001b[?25hdone\n",
            "Requirement already satisfied: beautifulsoup4 in /usr/local/lib/python3.11/dist-packages (from wikipedia) (4.13.3)\n",
            "Requirement already satisfied: requests<3.0.0,>=2.0.0 in /usr/local/lib/python3.11/dist-packages (from wikipedia) (2.32.3)\n",
            "Requirement already satisfied: charset-normalizer<4,>=2 in /usr/local/lib/python3.11/dist-packages (from requests<3.0.0,>=2.0.0->wikipedia) (3.4.1)\n",
            "Requirement already satisfied: idna<4,>=2.5 in /usr/local/lib/python3.11/dist-packages (from requests<3.0.0,>=2.0.0->wikipedia) (3.10)\n",
            "Requirement already satisfied: urllib3<3,>=1.21.1 in /usr/local/lib/python3.11/dist-packages (from requests<3.0.0,>=2.0.0->wikipedia) (2.3.0)\n",
            "Requirement already satisfied: certifi>=2017.4.17 in /usr/local/lib/python3.11/dist-packages (from requests<3.0.0,>=2.0.0->wikipedia) (2025.1.31)\n",
            "Requirement already satisfied: soupsieve>1.2 in /usr/local/lib/python3.11/dist-packages (from beautifulsoup4->wikipedia) (2.6)\n",
            "Requirement already satisfied: typing-extensions>=4.0.0 in /usr/local/lib/python3.11/dist-packages (from beautifulsoup4->wikipedia) (4.12.2)\n",
            "Building wheels for collected packages: wikipedia\n",
            "  Building wheel for wikipedia (setup.py) ... \u001b[?25l\u001b[?25hdone\n",
            "  Created wheel for wikipedia: filename=wikipedia-1.4.0-py3-none-any.whl size=11679 sha256=237add64eae451b5d26a398eb596a369e63bcde5c117d318eff8de5b15a32609\n",
            "  Stored in directory: /root/.cache/pip/wheels/8f/ab/cb/45ccc40522d3a1c41e1d2ad53b8f33a62f394011ec38cd71c6\n",
            "Successfully built wikipedia\n",
            "Installing collected packages: wikipedia\n",
            "Successfully installed wikipedia-1.4.0\n"
          ]
        }
      ]
    },
    {
      "cell_type": "code",
      "source": [
        "import telebot, wikipedia, re\n",
        "# Создаем экземпляр бота\n",
        "bot = telebot.TeleBot('7257580623:AAHojjUNTTA9shmB_FO4YUCUZ4p_LWOdwz0')\n",
        "# Выбираем русский язык в Wikipedia\n",
        "wikipedia.set_lang(\"ru\")\n",
        "# Чистим текст статьи из Wikipedia и ограничиваем его тысячей символов\n",
        "def getwiki(s):\n",
        "    try:\n",
        "        ny = wikipedia.page(s)\n",
        "        # Получаем первую тысячу символов\n",
        "        wikitext=ny.content[:1000]\n",
        "        # Разбиваем, считая точку разделителем\n",
        "        wikimas=wikitext.split('.')\n",
        "        # Отбрасываем всё после последней точки\n",
        "        wikimas = wikimas[:-1]\n",
        "        # Создаем пустую переменную для текста\n",
        "        wikitext2 = ''\n",
        "        # Проходимся по строкам, где нет знаков «равно» (то есть все, кроме заголовков)\n",
        "        for x in wikimas:\n",
        "            if not('==' in x):\n",
        "                    # Если в строке осталось больше трех символов, добавляем ее к нашей переменной и возвращаем утерянные при разделении строк точки на место\n",
        "                if(len((x.strip()))>3):\n",
        "                   wikitext2=wikitext2+x+'.'\n",
        "            else:\n",
        "                break\n",
        "        # Теперь при помощи регулярных выражений убираем разметку\n",
        "        wikitext2=re.sub('\\([^()]*\\)', '', wikitext2)\n",
        "        wikitext2=re.sub('\\([^()]*\\)', '', wikitext2)\n",
        "        wikitext2=re.sub('\\{[^\\{\\}]*\\}', '', wikitext2)\n",
        "        # Возвращаем текстовую строку\n",
        "        return wikitext2\n",
        "    # Обрабатываем исключение, которое мог вернуть модуль wikipedia при запросе\n",
        "    except Exception as e:\n",
        "        return 'В энциклопедии нет информации об этом'\n",
        "# Функция, обрабатывающая команду /start\n",
        "@bot.message_handler(commands=[\"start\"])\n",
        "def start(m, res=False):\n",
        "    bot.send_message(m.chat.id, 'Введите любое слово, чтобы узнать, что это такое!')\n",
        "# Получение сообщений от юзера\n",
        "@bot.message_handler(content_types=[\"text\"])\n",
        "def handle_text(message):\n",
        "    bot.send_message(message.chat.id, getwiki(message.text))\n",
        "# Запускаем бота\n",
        "bot.polling(none_stop=True, interval=0)\n"
      ],
      "metadata": {
        "id": "SVfNbKuDUzih"
      },
      "execution_count": 67,
      "outputs": []
    },
    {
      "cell_type": "code",
      "source": [
        "import telebot\n",
        "import random\n",
        "from telebot import types\n",
        "# Загружаем список интересных фактов\n",
        "f = open('/content/drive/MyDrive/Прикладные задачи анализа данных/ЛР1/facts.txt', 'r', encoding='UTF-8')\n",
        "facts = f.read().split('\\n')\n",
        "f.close()\n",
        "# Загружаем список поговорок\n",
        "f = open('/content/drive/MyDrive/Прикладные задачи анализа данных/ЛР1/thinks.txt', 'r', encoding='UTF-8')\n",
        "thinks  = f.read().split('\\n')\n",
        "f.close()\n",
        "# Создаем бота\n",
        "bot = telebot.TeleBot('7257580623:AAHojjUNTTA9shmB_FO4YUCUZ4p_LWOdwz0')\n",
        "# Команда start\n",
        "@bot.message_handler(commands=[\"start\"])\n",
        "def start(m, res=False):\n",
        "        # Добавляем две кнопки\n",
        "        markup=types.ReplyKeyboardMarkup(resize_keyboard=True)\n",
        "        item1=types.KeyboardButton(\"Новость\")\n",
        "        item2=types.KeyboardButton(\"Афоризм\")\n",
        "        markup.add(item1)\n",
        "        markup.add(item2)\n",
        "        bot.send_message(m.chat.id, 'Нажми: \\nНовость - для получения сегодняшних новостей\\nАфоризм — для получения лучших афоризмов всех времён ',  reply_markup=markup)\n",
        "# Получение сообщений от клиента\n",
        "@bot.message_handler(content_types=[\"text\"])\n",
        "def handle_text(message):\n",
        "    if message.text.strip() == 'Новость' :\n",
        "            answer = random.choice(facts)\n",
        "    elif message.text.strip() == 'Афоризм':\n",
        "            answer = random.choice(thinks)\n",
        "    # Отсылаем сообщение в чат пользователя\n",
        "    bot.send_message(message.chat.id, answer)\n",
        "# Запускаем бота\n",
        "bot.polling(none_stop=True, interval=0)\n"
      ],
      "metadata": {
        "colab": {
          "base_uri": "https://localhost:8080/"
        },
        "id": "jJ9VL0sEVcrR",
        "outputId": "56edd90a-07c0-4574-e0f2-5fdf7f2c6af2"
      },
      "execution_count": 71,
      "outputs": [
        {
          "output_type": "stream",
          "name": "stderr",
          "text": [
            "2025-03-16 14:35:43,181 (__init__.py:1241 MainThread) ERROR - TeleBot: \"Threaded polling exception: A request to the Telegram API was unsuccessful. Error code: 400. Description: Bad Request: message text is empty\"\n",
            "ERROR:TeleBot:Threaded polling exception: A request to the Telegram API was unsuccessful. Error code: 400. Description: Bad Request: message text is empty\n",
            "2025-03-16 14:35:43,184 (__init__.py:1243 MainThread) ERROR - TeleBot: \"Exception traceback:\n",
            "Traceback (most recent call last):\n",
            "  File \"/usr/local/lib/python3.11/dist-packages/telebot/__init__.py\", line 1235, in __threaded_polling\n",
            "    self.worker_pool.raise_exceptions()\n",
            "  File \"/usr/local/lib/python3.11/dist-packages/telebot/util.py\", line 150, in raise_exceptions\n",
            "    raise self.exception_info\n",
            "  File \"/usr/local/lib/python3.11/dist-packages/telebot/util.py\", line 93, in run\n",
            "    task(*args, **kwargs)\n",
            "  File \"/usr/local/lib/python3.11/dist-packages/telebot/__init__.py\", line 9233, in _run_middlewares_and_handler\n",
            "    result = handler['function'](message)\n",
            "             ^^^^^^^^^^^^^^^^^^^^^^^^^^^^\n",
            "  File \"<ipython-input-71-16276d9b1b92>\", line 32, in handle_text\n",
            "    bot.send_message(message.chat.id, answer)\n",
            "  File \"/usr/local/lib/python3.11/dist-packages/telebot/__init__.py\", line 1800, in send_message\n",
            "    apihelper.send_message(\n",
            "  File \"/usr/local/lib/python3.11/dist-packages/telebot/apihelper.py\", line 275, in send_message\n",
            "    return _make_request(token, method_url, params=payload, method='post')\n",
            "           ^^^^^^^^^^^^^^^^^^^^^^^^^^^^^^^^^^^^^^^^^^^^^^^^^^^^^^^^^^^^^^^\n",
            "  File \"/usr/local/lib/python3.11/dist-packages/telebot/apihelper.py\", line 168, in _make_request\n",
            "    json_result = _check_result(method_name, result)\n",
            "                  ^^^^^^^^^^^^^^^^^^^^^^^^^^^^^^^^^^\n",
            "  File \"/usr/local/lib/python3.11/dist-packages/telebot/apihelper.py\", line 195, in _check_result\n",
            "    raise ApiTelegramException(method_name, result, result_json)\n",
            "telebot.apihelper.ApiTelegramException: A request to the Telegram API was unsuccessful. Error code: 400. Description: Bad Request: message text is empty\n",
            "\"\n",
            "ERROR:TeleBot:Exception traceback:\n",
            "Traceback (most recent call last):\n",
            "  File \"/usr/local/lib/python3.11/dist-packages/telebot/__init__.py\", line 1235, in __threaded_polling\n",
            "    self.worker_pool.raise_exceptions()\n",
            "  File \"/usr/local/lib/python3.11/dist-packages/telebot/util.py\", line 150, in raise_exceptions\n",
            "    raise self.exception_info\n",
            "  File \"/usr/local/lib/python3.11/dist-packages/telebot/util.py\", line 93, in run\n",
            "    task(*args, **kwargs)\n",
            "  File \"/usr/local/lib/python3.11/dist-packages/telebot/__init__.py\", line 9233, in _run_middlewares_and_handler\n",
            "    result = handler['function'](message)\n",
            "             ^^^^^^^^^^^^^^^^^^^^^^^^^^^^\n",
            "  File \"<ipython-input-71-16276d9b1b92>\", line 32, in handle_text\n",
            "    bot.send_message(message.chat.id, answer)\n",
            "  File \"/usr/local/lib/python3.11/dist-packages/telebot/__init__.py\", line 1800, in send_message\n",
            "    apihelper.send_message(\n",
            "  File \"/usr/local/lib/python3.11/dist-packages/telebot/apihelper.py\", line 275, in send_message\n",
            "    return _make_request(token, method_url, params=payload, method='post')\n",
            "           ^^^^^^^^^^^^^^^^^^^^^^^^^^^^^^^^^^^^^^^^^^^^^^^^^^^^^^^^^^^^^^^\n",
            "  File \"/usr/local/lib/python3.11/dist-packages/telebot/apihelper.py\", line 168, in _make_request\n",
            "    json_result = _check_result(method_name, result)\n",
            "                  ^^^^^^^^^^^^^^^^^^^^^^^^^^^^^^^^^^\n",
            "  File \"/usr/local/lib/python3.11/dist-packages/telebot/apihelper.py\", line 195, in _check_result\n",
            "    raise ApiTelegramException(method_name, result, result_json)\n",
            "telebot.apihelper.ApiTelegramException: A request to the Telegram API was unsuccessful. Error code: 400. Description: Bad Request: message text is empty\n",
            "\n",
            "2025-03-16 14:35:51,124 (__init__.py:1241 MainThread) ERROR - TeleBot: \"Threaded polling exception: A request to the Telegram API was unsuccessful. Error code: 400. Description: Bad Request: message text is empty\"\n",
            "ERROR:TeleBot:Threaded polling exception: A request to the Telegram API was unsuccessful. Error code: 400. Description: Bad Request: message text is empty\n",
            "2025-03-16 14:35:51,128 (__init__.py:1243 MainThread) ERROR - TeleBot: \"Exception traceback:\n",
            "Traceback (most recent call last):\n",
            "  File \"/usr/local/lib/python3.11/dist-packages/telebot/__init__.py\", line 1235, in __threaded_polling\n",
            "    self.worker_pool.raise_exceptions()\n",
            "  File \"/usr/local/lib/python3.11/dist-packages/telebot/util.py\", line 150, in raise_exceptions\n",
            "    raise self.exception_info\n",
            "  File \"/usr/local/lib/python3.11/dist-packages/telebot/util.py\", line 93, in run\n",
            "    task(*args, **kwargs)\n",
            "  File \"/usr/local/lib/python3.11/dist-packages/telebot/__init__.py\", line 9233, in _run_middlewares_and_handler\n",
            "    result = handler['function'](message)\n",
            "             ^^^^^^^^^^^^^^^^^^^^^^^^^^^^\n",
            "  File \"<ipython-input-71-16276d9b1b92>\", line 32, in handle_text\n",
            "    bot.send_message(message.chat.id, answer)\n",
            "  File \"/usr/local/lib/python3.11/dist-packages/telebot/__init__.py\", line 1800, in send_message\n",
            "    apihelper.send_message(\n",
            "  File \"/usr/local/lib/python3.11/dist-packages/telebot/apihelper.py\", line 275, in send_message\n",
            "    return _make_request(token, method_url, params=payload, method='post')\n",
            "           ^^^^^^^^^^^^^^^^^^^^^^^^^^^^^^^^^^^^^^^^^^^^^^^^^^^^^^^^^^^^^^^\n",
            "  File \"/usr/local/lib/python3.11/dist-packages/telebot/apihelper.py\", line 168, in _make_request\n",
            "    json_result = _check_result(method_name, result)\n",
            "                  ^^^^^^^^^^^^^^^^^^^^^^^^^^^^^^^^^^\n",
            "  File \"/usr/local/lib/python3.11/dist-packages/telebot/apihelper.py\", line 195, in _check_result\n",
            "    raise ApiTelegramException(method_name, result, result_json)\n",
            "telebot.apihelper.ApiTelegramException: A request to the Telegram API was unsuccessful. Error code: 400. Description: Bad Request: message text is empty\n",
            "\"\n",
            "ERROR:TeleBot:Exception traceback:\n",
            "Traceback (most recent call last):\n",
            "  File \"/usr/local/lib/python3.11/dist-packages/telebot/__init__.py\", line 1235, in __threaded_polling\n",
            "    self.worker_pool.raise_exceptions()\n",
            "  File \"/usr/local/lib/python3.11/dist-packages/telebot/util.py\", line 150, in raise_exceptions\n",
            "    raise self.exception_info\n",
            "  File \"/usr/local/lib/python3.11/dist-packages/telebot/util.py\", line 93, in run\n",
            "    task(*args, **kwargs)\n",
            "  File \"/usr/local/lib/python3.11/dist-packages/telebot/__init__.py\", line 9233, in _run_middlewares_and_handler\n",
            "    result = handler['function'](message)\n",
            "             ^^^^^^^^^^^^^^^^^^^^^^^^^^^^\n",
            "  File \"<ipython-input-71-16276d9b1b92>\", line 32, in handle_text\n",
            "    bot.send_message(message.chat.id, answer)\n",
            "  File \"/usr/local/lib/python3.11/dist-packages/telebot/__init__.py\", line 1800, in send_message\n",
            "    apihelper.send_message(\n",
            "  File \"/usr/local/lib/python3.11/dist-packages/telebot/apihelper.py\", line 275, in send_message\n",
            "    return _make_request(token, method_url, params=payload, method='post')\n",
            "           ^^^^^^^^^^^^^^^^^^^^^^^^^^^^^^^^^^^^^^^^^^^^^^^^^^^^^^^^^^^^^^^\n",
            "  File \"/usr/local/lib/python3.11/dist-packages/telebot/apihelper.py\", line 168, in _make_request\n",
            "    json_result = _check_result(method_name, result)\n",
            "                  ^^^^^^^^^^^^^^^^^^^^^^^^^^^^^^^^^^\n",
            "  File \"/usr/local/lib/python3.11/dist-packages/telebot/apihelper.py\", line 195, in _check_result\n",
            "    raise ApiTelegramException(method_name, result, result_json)\n",
            "telebot.apihelper.ApiTelegramException: A request to the Telegram API was unsuccessful. Error code: 400. Description: Bad Request: message text is empty\n",
            "\n"
          ]
        }
      ]
    },
    {
      "cell_type": "code",
      "source": [
        "import telebot\n",
        "import time\n",
        "bot = telebot.TeleBot('7257580623:AAHojjUNTTA9shmB_FO4YUCUZ4p_LWOdwz0')\n",
        "# Адрес телеграм-канала, начинается с @\n",
        "CHANNEL_NAME = '@bruhalllflal_bot'\n",
        "# Загружаем список шуток\n",
        "f = open('/content/drive/MyDrive/Прикладные задачи анализа данных/ЛР1/fun.txt', 'r', encoding='UTF-8')\n",
        "jokes = f.read().split('\\n')\n",
        "f.close()\n",
        "# Пока не закончатся шутки, посылаем их в канал\n",
        "for joke in jokes:\n",
        "    bot.send_message(CHANNEL_NAME, joke)\n",
        "    # Делаем паузу в 30 секунд (можно указать любое время)\n",
        "    time.sleep(30)\n",
        "bot.send_message(CHANNEL_NAME, \"Анекдоты внезапно закончились\")\n"
      ],
      "metadata": {
        "id": "nA0vqevZYpo4"
      },
      "execution_count": null,
      "outputs": []
    },
    {
      "cell_type": "code",
      "source": [
        "!pip3 install fuzzywuzzy\n",
        "!pip3 install python-Levenshtein\n"
      ],
      "metadata": {
        "colab": {
          "base_uri": "https://localhost:8080/"
        },
        "id": "xUdmQg1Yar4s",
        "outputId": "c6a59b9d-51a8-46da-f194-9d98bb48bd41"
      },
      "execution_count": 79,
      "outputs": [
        {
          "output_type": "stream",
          "name": "stdout",
          "text": [
            "Collecting fuzzywuzzy\n",
            "  Downloading fuzzywuzzy-0.18.0-py2.py3-none-any.whl.metadata (4.9 kB)\n",
            "Downloading fuzzywuzzy-0.18.0-py2.py3-none-any.whl (18 kB)\n",
            "Installing collected packages: fuzzywuzzy\n",
            "Successfully installed fuzzywuzzy-0.18.0\n",
            "Collecting python-Levenshtein\n",
            "  Downloading python_levenshtein-0.27.1-py3-none-any.whl.metadata (3.7 kB)\n",
            "Collecting Levenshtein==0.27.1 (from python-Levenshtein)\n",
            "  Downloading levenshtein-0.27.1-cp311-cp311-manylinux_2_17_x86_64.manylinux2014_x86_64.whl.metadata (3.6 kB)\n",
            "Collecting rapidfuzz<4.0.0,>=3.9.0 (from Levenshtein==0.27.1->python-Levenshtein)\n",
            "  Downloading rapidfuzz-3.12.2-cp311-cp311-manylinux_2_17_x86_64.manylinux2014_x86_64.whl.metadata (12 kB)\n",
            "Downloading python_levenshtein-0.27.1-py3-none-any.whl (9.4 kB)\n",
            "Downloading levenshtein-0.27.1-cp311-cp311-manylinux_2_17_x86_64.manylinux2014_x86_64.whl (161 kB)\n",
            "\u001b[2K   \u001b[90m━━━━━━━━━━━━━━━━━━━━━━━━━━━━━━━━━━━━━━━━\u001b[0m \u001b[32m161.7/161.7 kB\u001b[0m \u001b[31m5.2 MB/s\u001b[0m eta \u001b[36m0:00:00\u001b[0m\n",
            "\u001b[?25hDownloading rapidfuzz-3.12.2-cp311-cp311-manylinux_2_17_x86_64.manylinux2014_x86_64.whl (3.1 MB)\n",
            "\u001b[2K   \u001b[90m━━━━━━━━━━━━━━━━━━━━━━━━━━━━━━━━━━━━━━━━\u001b[0m \u001b[32m3.1/3.1 MB\u001b[0m \u001b[31m36.2 MB/s\u001b[0m eta \u001b[36m0:00:00\u001b[0m\n",
            "\u001b[?25hInstalling collected packages: rapidfuzz, Levenshtein, python-Levenshtein\n",
            "Successfully installed Levenshtein-0.27.1 python-Levenshtein-0.27.1 rapidfuzz-3.12.2\n"
          ]
        }
      ]
    },
    {
      "cell_type": "code",
      "source": [
        "import telebot\n",
        "import os\n",
        "from fuzzywuzzy import fuzz\n",
        "bot = telebot.TeleBot('7257580623:AAHojjUNTTA9shmB_FO4YUCUZ4p_LWOdwz0')\n",
        "# Загружаем список фраз и ответов в массив\n",
        "mas=[]\n",
        "if os.path.exists('/content/drive/MyDrive/Прикладные задачи анализа данных/ЛР1/faq.txt'):\n",
        "    f=open('/content/drive/MyDrive/Прикладные задачи анализа данных/ЛР1/faq.txt', 'r', encoding='UTF-8')\n",
        "    for x in f:\n",
        "        if(len(x.strip()) > 2):\n",
        "            mas.append(x.strip().lower())\n",
        "    f.close()\n",
        "# С помощью fuzzywuzzy определяем наиболее похожую фразу и выдаем в качестве ответа следующий элемент списка\n",
        "def answer(text):\n",
        "    try:\n",
        "        text=text.lower().strip()\n",
        "        if os.path.exists('/content/drive/MyDrive/Прикладные задачи анализа данных/ЛР1/faq.txt'):\n",
        "            a = 0\n",
        "            n = 0\n",
        "            nn = 0\n",
        "            for q in mas:\n",
        "                if('u: ' in q):\n",
        "                    # Изучаем, насколько похожи две строки\n",
        "                    aa=(fuzz.token_sort_ratio(q.replace('u: ',''), text))\n",
        "                    if(aa > a and aa!= a):\n",
        "                        a = aa\n",
        "                        nn = n\n",
        "                n = n + 1\n",
        "            s = mas[nn + 1]\n",
        "            return s\n",
        "        else:\n",
        "            return 'Не смог'\n",
        "    except:\n",
        "        return 'Ошибка'\n",
        "# Команда «Старт»\n",
        "@bot.message_handler(commands=[\"start\"])\n",
        "def start(m, res=False):\n",
        "        bot.send_message(m.chat.id, 'Давай поболтаем. Например, напиши мне Привет!')\n",
        "# Получение сообщений от клиента\n",
        "@bot.message_handler(content_types=[\"text\"])\n",
        "def handle_text(message):\n",
        "    # Запись ответа\n",
        "    s=answer(message.text)\n",
        "    # Отправка ответа\n",
        "    bot.send_message(message.chat.id, s)\n",
        "# Запускаем бота\n",
        "bot.polling(none_stop=True, interval=0)\n"
      ],
      "metadata": {
        "id": "A3PQu3TTbaIz"
      },
      "execution_count": 80,
      "outputs": []
    },
    {
      "cell_type": "markdown",
      "source": [],
      "metadata": {
        "id": "WVms7MnScWlS"
      }
    },
    {
      "cell_type": "markdown",
      "source": [
        "lab6"
      ],
      "metadata": {
        "id": "cJhsF70icVLf"
      }
    }
  ]
}