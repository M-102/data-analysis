{
  "nbformat": 4,
  "nbformat_minor": 0,
  "metadata": {
    "colab": {
      "provenance": [],
      "mount_file_id": "https://github.com/M-102/data-analysis/blob/main/lab1/insurance.ipynb",
      "authorship_tag": "ABX9TyNUp5sU1XGh4uZlbOvDvvjE",
      "include_colab_link": true
    },
    "kernelspec": {
      "name": "python3",
      "display_name": "Python 3"
    },
    "language_info": {
      "name": "python"
    }
  },
  "cells": [
    {
      "cell_type": "markdown",
      "metadata": {
        "id": "view-in-github",
        "colab_type": "text"
      },
      "source": [
        "<a href=\"https://colab.research.google.com/github/M-102/data-analysis/blob/main/lab1/insurance.ipynb\" target=\"_parent\"><img src=\"https://colab.research.google.com/assets/colab-badge.svg\" alt=\"Open In Colab\"/></a>"
      ]
    },
    {
      "cell_type": "code",
      "source": [
        "import pandas as pd\n"
      ],
      "metadata": {
        "id": "Iu8tJ5Zw82P_"
      },
      "execution_count": 3,
      "outputs": []
    },
    {
      "cell_type": "code",
      "source": [
        "#считывание данных из файла\n",
        "insurance_df = pd.read_csv('/content/drive/MyDrive/Прикладные задачи анализа данных/ЛР1/insurance.csv')\n",
        "#вывод переменной insurance_df insurance_df.head(3)\n",
        "\n",
        "#считывание данных из файла\n",
        "insurance_df1 = pd.read_csv('/content/drive/MyDrive/Прикладные задачи анализа данных/ЛР1/insurance.csv')\n",
        "#вывод переменной insurance_df1 insurance_df1.head(3)\n",

        "print(insurance_df1)\n",
        "\n",
        
        "print(insurance_df1.head(3))"
      ],
      "metadata": {
        "id": "lSsUw2B386AY",
        "outputId": "37be1814-d644-482a-8e6f-796d40648441",
        "colab": {
          "base_uri": "https://localhost:8080/"
        }
      },
      "execution_count": 10,
      "outputs": [
        {
          "output_type": "stream",
          "name": "stdout",
          "text": [
            "      age     sex     bmi  children smoker     region      charges\n",
            "0      19  female  27.900         0    yes  southwest  16884.92400\n",
            "1      18    male  33.770         1     no  southeast   1725.55230\n",
            "2      28    male  33.000         3     no  southeast   4449.46200\n",
            "3      33    male  22.705         0     no  northwest  21984.47061\n",
            "4      32    male  28.880         0     no  northwest   3866.85520\n",
            "...   ...     ...     ...       ...    ...        ...          ...\n",
            "1333   50    male  30.970         3     no  northwest  10600.54830\n",
            "1334   18  female  31.920         0     no  northeast   2205.98080\n",
            "1335   18  female  36.850         0     no  southeast   1629.83350\n",
            "1336   21  female  25.800         0     no  southwest   2007.94500\n",
            "1337   61  female  29.070         0    yes  northwest  29141.36030\n",
            "\n",
            "[1338 rows x 7 columns]\n",
            "   age     sex    bmi  children smoker     region     charges\n",
            "0   19  female  27.90         0    yes  southwest  16884.9240\n",
            "1   18    male  33.77         1     no  southeast   1725.5523\n",
            "2   28    male  33.00         3     no  southeast   4449.4620\n"
          ]
        }
      ]
    }
  ]
}
