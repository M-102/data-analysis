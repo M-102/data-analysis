{
  "nbformat": 4,
  "nbformat_minor": 0,
  "metadata": {
    "colab": {
      "provenance": [],
      "mount_file_id": "1H4K9q6LFCtY0jRVgv7_RbZIFuCZK0kTz",
      "authorship_tag": "ABX9TyO0KN0GlMcM7MKuXKhrA153",
      "include_colab_link": true
    },
    "kernelspec": {
      "name": "python3",
      "display_name": "Python 3"
    },
    "language_info": {
      "name": "python"
    }
  },
  "cells": [
    {
      "cell_type": "markdown",
      "metadata": {
        "id": "view-in-github",
        "colab_type": "text"
      },
      "source": [
        "<a href=\"https://colab.research.google.com/github/M-102/data-analysis/blob/main/insurance.ipynb\" target=\"_parent\"><img src=\"https://colab.research.google.com/assets/colab-badge.svg\" alt=\"Open In Colab\"/></a>"
      ]
    },
    {
      "cell_type": "code",
      "source": [
        "import pandas as pd\n"
      ],
      "metadata": {
        "id": "Iu8tJ5Zw82P_"
      },
      "execution_count": 2,
      "outputs": []
    },
    {
      "cell_type": "code",
      "source": [
        "#считывание данных из файла\n",
        "insurance_df = pd.read_csv('/content/drive/MyDrive/Прикладные задачи анализа данных/ЛР1/insurance.csv')\n",
        "#вывод переменной insurance_df insurance_df.head(3)\n",
        "\n",
        "#считывание данных из файла\n",
        "insurance_df1 = pd.read_csv ('insurance.csv')\n",
        "#вывод переменной insurance_df1 insurance_df1.head(3)\n"
      ],
      "metadata": {
        "id": "lSsUw2B386AY"
      },
      "execution_count": 6,
      "outputs": []
    },
    {
      "cell_type": "code",
      "source": [],
      "metadata": {
        "id": "D5DjkYxjKLJO"
      },
      "execution_count": null,
      "outputs": []
    }
  ]
}